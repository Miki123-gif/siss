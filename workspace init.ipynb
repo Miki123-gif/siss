{
 "cells": [
  {
   "cell_type": "markdown",
   "metadata": {},
   "source": [
    "# 环境配置"
   ]
  },
  {
   "cell_type": "markdown",
   "metadata": {},
   "source": [
    "## 安装conda"
   ]
  },
  {
   "cell_type": "code",
   "execution_count": 1,
   "metadata": {
    "deletable": false,
    "editable": false,
    "run_control": {
     "frozen": true
    },
    "scrolled": true
   },
   "outputs": [
    {
     "name": "stdout",
     "output_type": "stream",
     "text": [
      "--2020-08-18 20:22:58--  https://repo.continuum.io/miniconda/Miniconda3-latest-Linux-x86_64.sh\n",
      "正在解析主机 repo.continuum.io (repo.continuum.io)... 104.18.201.79, 104.18.200.79, 2606:4700::6812:c84f, ...\n",
      "正在连接 repo.continuum.io (repo.continuum.io)|104.18.201.79|:443... 已连接。\n",
      "已发出 HTTP 请求，正在等待回应... 301 Moved Permanently\n",
      "位置：https://repo.anaconda.com/miniconda/Miniconda3-latest-Linux-x86_64.sh [跟随至新的 URL]\n",
      "--2020-08-18 20:23:02--  https://repo.anaconda.com/miniconda/Miniconda3-latest-Linux-x86_64.sh\n",
      "正在解析主机 repo.anaconda.com (repo.anaconda.com)... 104.16.130.3, 104.16.131.3, 2606:4700::6810:8303, ...\n",
      "正在连接 repo.anaconda.com (repo.anaconda.com)|104.16.130.3|:443... 已连接。\n",
      "已发出 HTTP 请求，正在等待回应... 200 OK\n",
      "长度：93052469 (89M) [application/x-sh]\n",
      "正在保存至: “Miniconda3-latest-Linux-x86_64.sh”\n",
      "\n",
      "16% [=====>                                 ] 15,456,713   246KB/s 剩余 3m 48s   ^C\n"
     ]
    }
   ],
   "source": [
    "# https://blog.csdn.net/weixin_43840215/article/details/89599559\n",
    "!wget -c https://repo.continuum.io/miniconda/Miniconda3-latest-Linux-x86_64.sh"
   ]
  },
  {
   "cell_type": "code",
   "execution_count": null,
   "metadata": {
    "deletable": false,
    "editable": false,
    "run_control": {
     "frozen": true
    }
   },
   "outputs": [],
   "source": [
    "!chmod 777 Miniconda3-latest-Linux-x86_64.sh\n",
    "!sh Miniconda3-latest-Linux-x86_64.sh"
   ]
  },
  {
   "cell_type": "code",
   "execution_count": 6,
   "metadata": {
    "deletable": false,
    "editable": false,
    "run_control": {
     "frozen": true
    },
    "scrolled": true
   },
   "outputs": [
    {
     "name": "stdout",
     "output_type": "stream",
     "text": [
      "/bin/bash: conda: 未找到命令\n",
      "/bin/bash: conda: 未找到命令\n",
      "/bin/bash: conda: 未找到命令\n",
      "/bin/bash: conda: 未找到命令\n",
      "/bin/bash: conda: 未找到命令\n",
      "/bin/bash: conda: 未找到命令\n"
     ]
    }
   ],
   "source": [
    "# 上面链接都是https的。然而我在下载的时候报错了。应该把s删掉\n",
    "!conda config --add channels http://mirrors.tuna.tsinghua.edu.cn/anaconda/pkgs/free/\n",
    "!conda config --add channels http://mirrors.tuna.tsinghua.edu.cn/anaconda/pkgs/main/\n",
    "!conda config --add channels http://mirrors.tuna.tsinghua.edu.cn/anaconda/cloud/conda-forge/\n",
    "!conda config --add channels http://mirrors.tuna.tsinghua.edu.cn/anaconda/cloud/bioconda/\n",
    "!conda config --set show_channel_urls yes \n",
    "!conda config --get channels"
   ]
  },
  {
   "cell_type": "code",
   "execution_count": null,
   "metadata": {
    "deletable": false,
    "editable": false,
    "run_control": {
     "frozen": true
    }
   },
   "outputs": [],
   "source": [
    "# https://blog.csdn.net/zzq060143/article/details/88042075\n",
    "# 请仔细参考这个，添加镜像\n",
    "!conda install pytorch torchvision cudatoolkit=10.2"
   ]
  },
  {
   "cell_type": "code",
   "execution_count": 10,
   "metadata": {},
   "outputs": [
    {
     "data": {
      "text/plain": [
       "'/root/jupyter env/bin/python'"
      ]
     },
     "execution_count": 10,
     "metadata": {},
     "output_type": "execute_result"
    }
   ],
   "source": [
    "import sys\n",
    "\n",
    "sys.executable"
   ]
  },
  {
   "cell_type": "code",
   "execution_count": 1,
   "metadata": {},
   "outputs": [],
   "source": [
    "import torch"
   ]
  },
  {
   "cell_type": "code",
   "execution_count": null,
   "metadata": {
    "deletable": false,
    "editable": false,
    "run_control": {
     "frozen": true
    }
   },
   "outputs": [],
   "source": [
    "# 由于我是使用conda安装的，默认使用的是conda的base环境。\n",
    "# 所以其他环境是使用不了torch的\n",
    "# 先要激活conda环境，并且退出当前的virtualenv\n",
    "\n",
    "!deactivate # 在当前环境直接输入这个指令即可\n",
    "!source miniconda3/bin/activate\n",
    "!conda jupyter notebook"
   ]
  },
  {
   "cell_type": "code",
   "execution_count": 6,
   "metadata": {},
   "outputs": [],
   "source": [
    "import pandas as pd"
   ]
  },
  {
   "cell_type": "code",
   "execution_count": 8,
   "metadata": {},
   "outputs": [],
   "source": [
    "import numpy as np"
   ]
  },
  {
   "cell_type": "code",
   "execution_count": 10,
   "metadata": {},
   "outputs": [],
   "source": [
    "data = pd.DataFrame(np.arange(8).reshape(4,2),columns=['a','b'])"
   ]
  },
  {
   "cell_type": "code",
   "execution_count": 12,
   "metadata": {},
   "outputs": [],
   "source": [
    "test = pd.DataFrame(np.arange(4,12).reshape(4,2),columns=['c','d'])"
   ]
  },
  {
   "cell_type": "code",
   "execution_count": 18,
   "metadata": {},
   "outputs": [],
   "source": [
    "# 可以使用这种方法同时修改训练集和测试集\n",
    "all_data = [data, test]\n",
    "for i in all_data:\n",
    "    i.iloc[:,1] = np.arange(4)"
   ]
  }
 ],
 "metadata": {
  "kernelspec": {
   "display_name": "Python 3",
   "language": "python",
   "name": "python3"
  },
  "language_info": {
   "codemirror_mode": {
    "name": "ipython",
    "version": 3
   },
   "file_extension": ".py",
   "mimetype": "text/x-python",
   "name": "python",
   "nbconvert_exporter": "python",
   "pygments_lexer": "ipython3",
   "version": "3.8.3"
  },
  "toc": {
   "base_numbering": 1,
   "nav_menu": {},
   "number_sections": true,
   "sideBar": true,
   "skip_h1_title": false,
   "title_cell": "Table of Contents",
   "title_sidebar": "Contents",
   "toc_cell": false,
   "toc_position": {
    "height": "calc(100% - 180px)",
    "left": "10px",
    "top": "150px",
    "width": "171px"
   },
   "toc_section_display": true,
   "toc_window_display": true
  }
 },
 "nbformat": 4,
 "nbformat_minor": 4
}
